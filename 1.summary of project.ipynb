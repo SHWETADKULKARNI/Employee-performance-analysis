{
 "cells": [
  {
   "cell_type": "markdown",
   "id": "9b96938b",
   "metadata": {},
   "source": [
    "# Employee preformance Analysis"
   ]
  },
  {
   "cell_type": "markdown",
   "id": "167d300e",
   "metadata": {},
   "source": [
    "## INX Future Inc."
   ]
  },
  {
   "cell_type": "markdown",
   "id": "af36a447",
   "metadata": {},
   "source": [
    "* Candidate Name : Shweta Divakar Kulkarni\n",
    "* Candidate E-Mail : shweta.kulkarni3637@gmail.com\n",
    "* Project Code : 10281\n",
    "* REP Name : DataMites™ Solutions Pvt Ltd\n",
    "* Assesment ID : E10901-PR2-V18\n",
    "* Module : Certified Data Scientist - Project\n",
    "* Exam Format : Open Project- IABAC™ Project Submission\n",
    "* Project Assessment : IABAC™\n",
    "* Registered Trainer : Ashok Kumar A\n",
    "* Submission Deadline Date: 13-Jan-2023 "
   ]
  },
  {
   "cell_type": "markdown",
   "id": "ecc8a9b3",
   "metadata": {},
   "source": [
    "# PROJECT SUMMARY:"
   ]
  },
  {
   "cell_type": "markdown",
   "id": "85a2a435",
   "metadata": {},
   "source": [
    "## BUSINESSCASE & GOAL OF PROJECT:\n",
    "### BASED ON GIVEN FEATURE OF DATASET WE NEED TO PREDICT THE PERFORMANCE RATING OF EMPLOYEE"
   ]
  },
  {
   "cell_type": "markdown",
   "id": "0f037bca",
   "metadata": {},
   "source": [
    "### INX Future Inc Employee Performance - project"
   ]
  },
  {
   "cell_type": "raw",
   "id": "3ca7efec",
   "metadata": {},
   "source": [
    "The Data Science project which is given here in an analysis of employee performance."
   ]
  },
  {
   "cell_type": "markdown",
   "id": "17a742d7",
   "metadata": {},
   "source": [
    "### The Goal and Insights of the project are as follows:"
   ]
  },
  {
   "cell_type": "markdown",
   "id": "917660a2",
   "metadata": {},
   "source": [
    "* Department wise performances.\n",
    "* Top 3 Important Factors affecting employee performance.\n",
    "* A trained model which can predict the employee performance based on factors as inputs."
   ]
  },
  {
   "cell_type": "raw",
   "id": "dec62f27",
   "metadata": {},
   "source": [
    "This will be used to hire employees."
   ]
  },
  {
   "cell_type": "markdown",
   "id": "4a997a60",
   "metadata": {},
   "source": [
    "* Recommendations to improve the employee performance based on insights from analysis."
   ]
  },
  {
   "cell_type": "raw",
   "id": "277a40db",
   "metadata": {},
   "source": [
    "The given Employee dataset consists of 1200 rows.The features present in the data are 28 columns.The shape of the dataset is 1200x28.The features are classified into quantitative and qualitative where 19 features are quantitative(11 columns consists numeric data & 8 columns consists ordinal data)and 8 features are qualitative.\n",
    "EmpNumber consist of alphanumeriical data(distinct values)which doesn't play a role as relevant features for performance rating."
   ]
  },
  {
   "cell_type": "raw",
   "id": "19ee5c0b",
   "metadata": {},
   "source": [
    "From Correlation we can get the important aspects of the data.Correlation between features and performance Rating.Correlation is a statistical measure that expresses the extent to which two variables are linearly related.The analysis of the project has gone through the stage of Univariate Bivariate & Multivariate analysis,correlation analysis and analysis by each department to satisfy the project goal."
   ]
  },
  {
   "cell_type": "raw",
   "id": "49e9e60a",
   "metadata": {},
   "source": [
    "The dataset consists of Categorical data and Numerical data.The target variable consist of ordinal data,so this is a classification problem.The multiple machine learning model used in this project is Support vector classifier,Random forest classifier & Artifical neural network [Multilayer percepton] from above all models Artifical neural network[Multilayer percepton] predicts higher accuracy 95.80%."
   ]
  },
  {
   "cell_type": "raw",
   "id": "269a7294",
   "metadata": {},
   "source": [
    "One of the important goal of this project is to find the important feature affecting the performance rating.The important features were predicted using the machine learning model feature importance technique used in the preprocessing data using the Manual & Frequency encoding method to convert the string categorical data into numerical data because most of machine learning methods are based on numerical methods where strings are not supportive.The overall project was performed and achieved the goals by using the machine learning model and visualization techniques.   "
   ]
  },
  {
   "cell_type": "markdown",
   "id": "90843d72",
   "metadata": {},
   "source": [
    "### 1.Requirement"
   ]
  },
  {
   "cell_type": "raw",
   "id": "5e80b74b",
   "metadata": {},
   "source": [
    "The data was given from the IABAC for this project where the collected source is IABAC™.The data is based on INX Future Inc,(referred as INX).It is one of the leading data analytics and automation solutions provider with over 15 years of global business presence.INX is consistently rated as top 20 best employers past 5 years.The data is not from the real organization.The whole project was done in Jupiter notebook with python platform."
   ]
  },
  {
   "cell_type": "markdown",
   "id": "4e2ee2f4",
   "metadata": {},
   "source": [
    "### 2.Analysis"
   ]
  },
  {
   "cell_type": "raw",
   "id": "937bbf14",
   "metadata": {},
   "source": [
    "Data were analyzed by describing the features present in the data.The features play the bigger part in the analysis.The features tell the relation between the dependent and independent variables.Pandas also help to describe the datasets answering following questions early in our project.The data pesent in the dataset are divided into numerical and categorical data."
   ]
  },
  {
   "cell_type": "markdown",
   "id": "8d862569",
   "metadata": {},
   "source": [
    "### Categorical Features"
   ]
  },
  {
   "cell_type": "markdown",
   "id": "38c70313",
   "metadata": {},
   "source": [
    "* EmpNumber\n",
    "* Gender\n",
    "* EducationBackground\n",
    "* MaritalStatus\n",
    "* EmpDepartment\n",
    "* EmpJobRole\n",
    "* BusinessTravelFrequency\n",
    "* OverTime\n",
    "* Attrition"
   ]
  },
  {
   "cell_type": "markdown",
   "id": "e2177edf",
   "metadata": {},
   "source": [
    "### Numerical Features"
   ]
  },
  {
   "cell_type": "markdown",
   "id": "d13cb77f",
   "metadata": {},
   "source": [
    "* Age\n",
    "* DistanceFromHome\n",
    "* EmpHourlyRate\n",
    "* Numcompaniesworked\n",
    "* EmpLastSalaryHikePercent\n",
    "* TotalWorkExperienceInYears\n",
    "* TrainingTimesLastYear\n",
    "* ExperienceYearsAtThisCompany\n",
    "* ExperienceYearsInCurrentRole\n",
    "* YearsSinceLastPromotion\n",
    "* YearsWithCurrManager"
   ]
  },
  {
   "cell_type": "markdown",
   "id": "b7aa0e1f",
   "metadata": {},
   "source": [
    "### Ordinal Features"
   ]
  },
  {
   "cell_type": "markdown",
   "id": "f431b336",
   "metadata": {},
   "source": [
    "* EmpEducationLevel\n",
    "* EmpEnvironmentSatisfaction\n",
    "* EmpJobInvolvement\n",
    "* EmpJobLevel\n",
    "* EmpJobSatisfaction \n",
    "* EmpRelationshipSatisfaction\n",
    "* EmpWorkLifeBalance\n",
    "* PerformanceRating"
   ]
  },
  {
   "cell_type": "markdown",
   "id": "b46ff11e",
   "metadata": {},
   "source": [
    "### 3.Univariate,Bivariate & Multivariate Analysis"
   ]
  },
  {
   "cell_type": "markdown",
   "id": "4ec69d07",
   "metadata": {},
   "source": [
    "* Library Used:Matplotlib & Seaborn\n",
    "* Plots Used: HistPlot,Lineplot,Countplot,Barplot\n",
    "* Tip: All Observations or insights written below the plots. "
   ]
  },
  {
   "cell_type": "markdown",
   "id": "1e116ce4",
   "metadata": {},
   "source": [
    "#### Univariate Analysis: \n",
    "In univariate analysis we get the unique labels of categorical features as well as get the range & density of numbers."
   ]
  },
  {
   "cell_type": "markdown",
   "id": "184098b5",
   "metadata": {},
   "source": [
    "#### Bivariate Analysis:\n",
    "In bivariate analysis we check the feature relationship with target variable."
   ]
  },
  {
   "cell_type": "markdown",
   "id": "610801db",
   "metadata": {},
   "source": [
    "#### Multivariate Analysis:\n",
    "In multivariate analysis check the relationship between two variable with respect to the target variable."
   ]
  },
  {
   "cell_type": "markdown",
   "id": "45be73fb",
   "metadata": {},
   "source": [
    "### CONCLUSION\n",
    "* There are some features are positively correlated with performance rating(Target variable)\n",
    "[Emp Environment Satisfaction,Emp Last Salary Hike Percent,Emp Work Life Balance]"
   ]
  },
  {
   "cell_type": "markdown",
   "id": "ab5b4006",
   "metadata": {},
   "source": [
    "### 4.Exploratory Data Analysis"
   ]
  },
  {
   "cell_type": "markdown",
   "id": "144fbe8c",
   "metadata": {},
   "source": [
    "#### Basic Check & Statistical Measures"
   ]
  },
  {
   "cell_type": "markdown",
   "id": "32713e5b",
   "metadata": {},
   "source": [
    "* There is no constant column is present in Numerical as well as Categorical data."
   ]
  },
  {
   "cell_type": "markdown",
   "id": "0f95f554",
   "metadata": {},
   "source": [
    "### Distribution of continuous Features:"
   ]
  },
  {
   "cell_type": "raw",
   "id": "a12d367b",
   "metadata": {},
   "source": [
    "In general,one of the first few steps in exploring the data would be to have a rough idea of how the features are distributed with one another.To do so,we shall invoke the familiar distplot function from the seaborn plotting library.The distribution has been done by both numerical features.It will show the overall idea about the density and majority of data present in a different level."
   ]
  },
  {
   "cell_type": "markdown",
   "id": "eaade198",
   "metadata": {},
   "source": [
    "* The age distribution is starting from 18 to 60 where the most of the employees are laying between 30 to 40 age count.\n",
    "* Employees are worked in the multiple companies upto 8 companies where most of the employees worked upto 2 companies before getting to work here.\n",
    "* The hourly rate range is 65 to 95 for majority employees work in this company.\n",
    "* In general most of Employees work upto 5 years in this company.Most of the employees get 11% to 15% of salary hike in this company."
   ]
  },
  {
   "cell_type": "markdown",
   "id": "e37a8712",
   "metadata": {},
   "source": [
    "### Check Skewness and Kurtosis of Numerical Features"
   ]
  },
  {
   "cell_type": "raw",
   "id": "efe6d344",
   "metadata": {},
   "source": [
    "Checking weather the data is Normally distributed or not with Skewness and Kurtosis."
   ]
  },
  {
   "cell_type": "markdown",
   "id": "181fabe1",
   "metadata": {},
   "source": [
    "* YearSinceLastPromotion,This column is skewed.\n",
    "* Skewness for YearsSinceLastPromotion: 1.9749315589155791\n",
    "* Kurtosis for YearsSinceLastPromotion:3.5390800793468817"
   ]
  },
  {
   "cell_type": "markdown",
   "id": "0bbdf6a9",
   "metadata": {},
   "source": [
    "### Distribution of Mean of Data"
   ]
  },
  {
   "cell_type": "markdown",
   "id": "c34c5950",
   "metadata": {},
   "source": [
    "* Distribution of mean close to guassian distribution with mean value 9.5.\n",
    "* we can say that around 80% features mean lies between 8.5 to 10.5"
   ]
  },
  {
   "cell_type": "markdown",
   "id": "4b892506",
   "metadata": {},
   "source": [
    "### Distribution of Standard Deviation of Data"
   ]
  },
  {
   "cell_type": "raw",
   "id": "133a4236",
   "metadata": {},
   "source": [
    "Distribution of standard deviation of data also look like guassian distribusian around 30%of feature standard deviation around the range of 33 to 20 and remaining 70% feature standard deviation in between 0 to 2."
   ]
  },
  {
   "cell_type": "markdown",
   "id": "669f4769",
   "metadata": {},
   "source": [
    "### 5.Data Pre-processing"
   ]
  },
  {
   "cell_type": "markdown",
   "id": "df2a4128",
   "metadata": {},
   "source": [
    "#### 1.Check Missing Value:\n",
    "There is no missing value in data"
   ]
  },
  {
   "cell_type": "markdown",
   "id": "a192e860",
   "metadata": {},
   "source": [
    "#### 2.Categorical Data Conversion:\n",
    "Handel categorical data with the help of frequency and manual encoding because feature is contain lot's of labels\n",
    "* Manual Encoding: Manual encoding is a best technique to handle categorical feature with the help of map function,map the labels based on frequency.\n",
    "    * Frequency Encoding: Frequency encoding is an encoding technique to transform an original categorical variable to a numerical variable by considering the frequency distribution of the data getting value counts."
   ]
  },
  {
   "cell_type": "markdown",
   "id": "7b1408ec",
   "metadata": {},
   "source": [
    "#### 3.Outlier Handling:\n",
    "Some feature are contain outliers so we are impute this outlierwith the help of IQR because in all features data is not normally distributed."
   ]
  },
  {
   "cell_type": "markdown",
   "id": "871f0040",
   "metadata": {},
   "source": [
    "#### 4.Feature Transformation:\n",
    "In YearsSinceLastPromotion some skewed & kurtosis is present so we are use Square Root Transformation Technique.\n",
    "* Square root transformation:square root transformation is one of the many types of standard transformation is used for count data(data that follow a poisson distribution) or small whole numbers.Each data point is replaced by its square root.Negative data is converted to positive by adding a constant and then transformed.\n",
    "* Q-Q plot: Q_Q Plot is a probability plot a graphical method for comparing two probability distribution by plotting their quantiles against each other."
   ]
  },
  {
   "cell_type": "markdown",
   "id": "bcf69b07",
   "metadata": {},
   "source": [
    "#### 5.Scaling the Data: scaling the data with the help of standard scalar\n",
    "* Standard Scaling:standardization is the process of scaling the feature it assumes the feature follow normal distribution and scale the feature between mean and standard deviation here mean is 0 and standard drviation is always 1."
   ]
  },
  {
   "cell_type": "markdown",
   "id": "abf82ef8",
   "metadata": {},
   "source": [
    "### 6.Future Selection\n",
    "#### 1.Drop unique and constant feature:\n",
    "Dropping employee number because this is a constant column as well as drop Years Since Last Promotion because we create a new feature using square root transformation"
   ]
  },
  {
   "cell_type": "markdown",
   "id": "cc92253a",
   "metadata": {},
   "source": [
    "#### 2.Checking Correlation:\n",
    "checking correlation with the help of heat map & get their is no highly correlated feature is present.\n",
    "* Heatmap: A heatmap is a graphical representation of data that uses a system of color-coding to represent different values."
   ]
  },
  {
   "cell_type": "markdown",
   "id": "e3073e11",
   "metadata": {},
   "source": [
    "#### 3.Check Duplicates:\n",
    "In this data their is no duplicates is present."
   ]
  },
  {
   "cell_type": "markdown",
   "id": "6ba40722",
   "metadata": {},
   "source": [
    "#### 4.PCA:\n",
    "Use pca to reduce the dimension of data,data is contains total 27 feature after dropping unique and constant column from PCA it shows the 25 feature has less variance loss,so we are going to select 25 feature.\n",
    "* Principal component analysis(PCA) is a popular technique for analyzing large datasets containing a high number of dimensions/features per observation increasing the interpretability of data while preserving the maximum amount of information and enabling the visualization of multidimensional data.Formally PCA is a statistical technique for reducing the dimensionality of a dataset."
   ]
  },
  {
   "cell_type": "markdown",
   "id": "860e7ce7",
   "metadata": {},
   "source": [
    "#### 5.Saving Pre-Process Data:\n",
    "Save the all preprocess data in new file and add target feature to it."
   ]
  },
  {
   "cell_type": "markdown",
   "id": "3d9514f7",
   "metadata": {},
   "source": [
    "### 7.Machine Learning Model Creation & Evaluation "
   ]
  },
  {
   "cell_type": "markdown",
   "id": "be39e076",
   "metadata": {},
   "source": [
    "#### 1.Define Dependent and Independent Features:"
   ]
  },
  {
   "cell_type": "markdown",
   "id": "d3a49392",
   "metadata": {},
   "source": [
    "#### 2.Balancing the data:\n",
    "The data is imbalance,so we need to balance the data with the help of SMOTE.\n",
    "* SMOTE : SMOTE(synthetic minority oversampling technique) is one of the most commonly used oversampling methods to solve the imbalance problem.It aims to balance class distribution by randomly increasing minority class examples by replicating them.SMOTE sythesises new minority instances betweenexisting minority instances."
   ]
  },
  {
   "cell_type": "markdown",
   "id": "e0bb2301",
   "metadata": {},
   "source": [
    "#### 3.Splitting Training and Testing Data:\n",
    "80% data use for training & 20% data used for testing."
   ]
  },
  {
   "cell_type": "markdown",
   "id": "6c43bd48",
   "metadata": {},
   "source": [
    "# Algorithms:"
   ]
  },
  {
   "cell_type": "markdown",
   "id": "89e53bd7",
   "metadata": {},
   "source": [
    "#### AIM: \n",
    "Create a sweet spot model(low bias,low variance)"
   ]
  },
  {
   "cell_type": "markdown",
   "id": "fc7e573d",
   "metadata": {},
   "source": [
    "#### Here we will be experimenting with three algorithm"
   ]
  },
  {
   "cell_type": "raw",
   "id": "56418aa6",
   "metadata": {},
   "source": [
    "1. Support Vector Machine\n",
    "2. Random Forest\n",
    "3.Artifical Neural Network[MLP Classifier]"
   ]
  },
  {
   "cell_type": "markdown",
   "id": "cc21374d",
   "metadata": {},
   "source": [
    "* Support vector machine well perform on training data with accuracy 96.61% but the test score is 94.66% after applying hyperparameter tunning score is 98.28 means model is overfit.\n",
    "* Random forest very well perform in training data with 100% accuracy but in testing 95.61% after doing hyperparameter tunning testing score is decreases.\n",
    "* Artifical neural network [Multilayer perceoton]perform very well on training data with 98.95% accuracy and testing score is 95.80%.\n",
    "* so we are select Artifical neural network [Multilayer perception]model."
   ]
  },
  {
   "cell_type": "markdown",
   "id": "0685164b",
   "metadata": {},
   "source": [
    "### 8.Saving Model\n",
    "* Save model with the helpof pickle file."
   ]
  },
  {
   "cell_type": "markdown",
   "id": "d79f01c1",
   "metadata": {},
   "source": [
    "### Tool and Library Used:"
   ]
  },
  {
   "cell_type": "markdown",
   "id": "6f1b908f",
   "metadata": {},
   "source": [
    "### Tools:"
   ]
  },
  {
   "cell_type": "markdown",
   "id": "3a894803",
   "metadata": {},
   "source": [
    "* Jupyter"
   ]
  },
  {
   "cell_type": "markdown",
   "id": "1769cb6d",
   "metadata": {},
   "source": [
    "### Library Used:"
   ]
  },
  {
   "cell_type": "markdown",
   "id": "deab329b",
   "metadata": {},
   "source": [
    "* Pandas \n",
    "* Numpy\n",
    "* Seaborn\n",
    "* pylab\n",
    "* Scipy\n",
    "* Sklearn\n",
    "* Pickle"
   ]
  },
  {
   "cell_type": "markdown",
   "id": "eddd18b2",
   "metadata": {},
   "source": [
    "### Goal 1:Department Wise performances"
   ]
  },
  {
   "cell_type": "markdown",
   "id": "cb4b462e",
   "metadata": {},
   "source": [
    "#### PLOT USED"
   ]
  },
  {
   "cell_type": "markdown",
   "id": "a16e246e",
   "metadata": {},
   "source": [
    "* Violinplot: It shows the distribution of quantitative data across several levels of one(or more)categorical variables such that those distributions can be compared.\n",
    "* Countplot: countplot is used to show the counts of observations in each categorical bin using bars.\n"
   ]
  },
  {
   "cell_type": "markdown",
   "id": "03cfd6ab",
   "metadata": {},
   "source": [
    "#### Sales :\n",
    "The performance rating level 3 is more in the sales department.The male performance rating the little bit higher compared to female."
   ]
  },
  {
   "cell_type": "markdown",
   "id": "42bf0033",
   "metadata": {},
   "source": [
    "#### Human Resources:\n",
    "The majority of the employees laying under the level 3 performance.The older people are performing low in this department.The female employees in HR department doing really well in their performance.\n"
   ]
  },
  {
   "cell_type": "markdown",
   "id": "185465c6",
   "metadata": {},
   "source": [
    "#### Development:\n",
    "The maximum number of employees are level 3 performers.Employees of all age are performing at the level of 3 only.The gender-based performance is nearly same for both."
   ]
  },
  {
   "cell_type": "markdown",
   "id": "779abd11",
   "metadata": {},
   "source": [
    "#### Data Science: \n",
    "The highest average of level 3 performance is in data science department.Data Science is only department where less number of level 2 performers.The overall\n",
    "performance is higher compared to all departments.Maleemployees are doing good in this department."
   ]
  },
  {
   "cell_type": "markdown",
   "id": "eabb14aa",
   "metadata": {},
   "source": [
    "#### Research & Development:\n",
    "The age factor is not deviating from the level of performance here where different employees with different age are there in every level of performance.The R&D has the good female employees in their performance."
   ]
  },
  {
   "cell_type": "markdown",
   "id": "c84722ac",
   "metadata": {},
   "source": [
    "#### Finance:\n",
    "The finance department performance is exponentially decreasing when age increases.The male employees are doing good.The experience factor is inversely relating to the performance level."
   ]
  },
  {
   "cell_type": "markdown",
   "id": "13f4c92a",
   "metadata": {},
   "source": [
    "### Goal 2: Top 3 Important factors affecting employee performance"
   ]
  },
  {
   "cell_type": "markdown",
   "id": "879255ce",
   "metadata": {},
   "source": [
    "The top three important features affecting the performance rating are ordered with their importance level as follows.\n",
    "1. Employment Environment Satisfaction\n",
    "2. Employee Salary Hike Percentage\n",
    "3. Experience Years In CurrenRole"
   ]
  },
  {
   "cell_type": "markdown",
   "id": "2e9734c4",
   "metadata": {},
   "source": [
    "#### Employee Environment Satisfaction:\n",
    "Maximum number of Employees performance Rating belongs to EmpEnvironmentSatisfaction Level 3 & Level 4.It contains 367 & 361"
   ]
  },
  {
   "cell_type": "markdown",
   "id": "c149f6b0",
   "metadata": {},
   "source": [
    "#### Employee Last salary hike percentage:\n",
    "More number of employees whose salary hike percentage belongs to 11-19% are getting 2 & 3 performance rating maximum time as well as emplyees whose salary hike percentage is in between 20-22%.There performance rating is 4."
   ]
  },
  {
   "cell_type": "markdown",
   "id": "dacb1d77",
   "metadata": {},
   "source": [
    "#### Employee work life balance:\n",
    "In EmpworkLifeBalance level 3 is showing high performance rating of employees."
   ]
  },
  {
   "cell_type": "markdown",
   "id": "bb49adff",
   "metadata": {},
   "source": [
    "### Goal 3: A trained model which can predict the employee performance"
   ]
  },
  {
   "cell_type": "raw",
   "id": "1f9ee78e",
   "metadata": {},
   "source": [
    "The trained model is created using the machine learning algorithm as follow with the accuracy score.\n",
    "\n",
    "1.Support Vector Classifier:98.28% accuracy\n",
    "2.Random Forest Classifier:95.61% accuracy\n",
    "3.Artifical Neural Network[Multilayer percepton]:95.80%"
   ]
  },
  {
   "cell_type": "markdown",
   "id": "db8d716d",
   "metadata": {},
   "source": [
    "### Goal 4: Recommendations to improve the employee performance"
   ]
  },
  {
   "cell_type": "raw",
   "id": "64469425",
   "metadata": {},
   "source": [
    "1.Overall employee performance can be achieved by employee environment satisfaction.The company need to focus more on the employee environmrnt satisfaction.\n",
    "2.The salary hike will give the boost to the employees to perform well.\n",
    "3.Promote the employee after every 6th months.\n",
    "4.Improve Employee's work-life balance this affects the performance rating.\n",
    "5.While recruiting for HR consider the female candidates where they perform well compared to male.\n",
    "6.The development and sales department is having an overall higher performance comparing to rest of the departments."
   ]
  },
  {
   "cell_type": "raw",
   "id": "905b9509",
   "metadata": {},
   "source": [
    "While some of the employees who gives feedback like low & medium from job satisfaction & realtionship satisfaction feature such employee gives excellent performance more in number.So company should focus on them."
   ]
  }
 ],
 "metadata": {
  "kernelspec": {
   "display_name": "Python 3 (ipykernel)",
   "language": "python",
   "name": "python3"
  },
  "language_info": {
   "codemirror_mode": {
    "name": "ipython",
    "version": 3
   },
   "file_extension": ".py",
   "mimetype": "text/x-python",
   "name": "python",
   "nbconvert_exporter": "python",
   "pygments_lexer": "ipython3",
   "version": "3.9.7"
  }
 },
 "nbformat": 4,
 "nbformat_minor": 5
}
